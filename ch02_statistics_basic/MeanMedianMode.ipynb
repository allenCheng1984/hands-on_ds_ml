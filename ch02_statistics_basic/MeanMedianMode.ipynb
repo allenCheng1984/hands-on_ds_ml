{
 "cells": [
  {
   "cell_type": "markdown",
   "metadata": {
    "deletable": true,
    "editable": true
   },
   "source": [
    "# Mean, Median, Mode, and introducing NumPy"
   ]
  },
  {
   "cell_type": "markdown",
   "metadata": {
    "deletable": true,
    "editable": true
   },
   "source": [
    "## Mean vs. Median"
   ]
  },
  {
   "cell_type": "markdown",
   "metadata": {
    "deletable": true,
    "editable": true
   },
   "source": [
    "Let's create some fake income data, centered around 27,000 with a normal distribution and standard deviation of 15,000, with 10,000 data points. (We'll discuss those terms more later, if you're not familiar with them.)\n",
    "\n",
    "Then, compute the mean (average) - it should be close to 27,000:"
   ]
  },
  {
   "cell_type": "code",
   "execution_count": 1,
   "metadata": {
    "collapsed": false,
    "deletable": true,
    "editable": true
   },
   "outputs": [
    {
     "data": {
      "text/plain": [
       "27060.23615721787"
      ]
     },
     "execution_count": 1,
     "metadata": {},
     "output_type": "execute_result"
    }
   ],
   "source": [
    "import numpy as np\n",
    "\n",
    "# 建立一個美國平均收入的常態分佈隨機資料\n",
    "# 收入的平均值在 27000，標準差為 15000，筆數 10000 筆\n",
    "incomes = np.random.normal(27000, 15000, 10000)\n",
    "np.mean(incomes)"
   ]
  },
  {
   "cell_type": "markdown",
   "metadata": {
    "deletable": true,
    "editable": true
   },
   "source": [
    "We can segment the income data into 50 buckets, and plot it as a histogram:"
   ]
  },
  {
   "cell_type": "code",
   "execution_count": 2,
   "metadata": {
    "collapsed": false,
    "deletable": true,
    "editable": true
   },
   "outputs": [
    {
     "data": {
      "image/png": "[encoded data removed]",
      "text/plain": [
       "<Figure size 432x288 with 1 Axes>"
      ]
     },
     "metadata": {
      "needs_background": "light"
     },
     "output_type": "display_data"
    }
   ],
   "source": [
    "%matplotlib inline\n",
    "import matplotlib.pyplot as plt\n",
    "# 建立直方圖, 將生成的隨機資料分割成 50 組區塊(x值)\n",
    "plt.hist(incomes, 50)\n",
    "plt.show()\n",
    "\n",
    "# 可以這樣解讀圖表意涵：離散化後的每組資料高度，表示該資料出現的頻率"
   ]
  },
  {
   "cell_type": "markdown",
   "metadata": {
    "deletable": true,
    "editable": true
   },
   "source": [
    "Now compute the median - since we have a nice, even distribution it too should be close to 27,000:"
   ]
  },
  {
   "cell_type": "code",
   "execution_count": 3,
   "metadata": {
    "collapsed": false,
    "deletable": true,
    "editable": true
   },
   "outputs": [
    {
     "data": {
      "text/plain": [
       "27182.201855787964"
      ]
     },
     "execution_count": 3,
     "metadata": {},
     "output_type": "execute_result"
    }
   ],
   "source": [
    "np.median(incomes)"
   ]
  },
  {
   "cell_type": "markdown",
   "metadata": {
    "deletable": true,
    "editable": true
   },
   "source": [
    "Now we'll add Donald Trump into the mix. Darn income inequality!"
   ]
  },
  {
   "cell_type": "code",
   "execution_count": 4,
   "metadata": {
    "collapsed": false,
    "deletable": true,
    "editable": true
   },
   "outputs": [],
   "source": [
    "# 加入了一筆超大的離群值資料\n",
    "incomes = np.append(incomes, [1000000000])"
   ]
  },
  {
   "cell_type": "markdown",
   "metadata": {
    "deletable": true,
    "editable": true
   },
   "source": [
    "The median won't change much, but the mean does:\n",
    "\n",
    "可以看到平均值被嚴重影響\n",
    "而中位數不怎麼受影響"
   ]
  },
  {
   "cell_type": "code",
   "execution_count": 5,
   "metadata": {
    "collapsed": false,
    "deletable": true,
    "editable": true
   },
   "outputs": [
    {
     "data": {
      "text/plain": [
       "27184.66947852141"
      ]
     },
     "execution_count": 5,
     "metadata": {},
     "output_type": "execute_result"
    }
   ],
   "source": [
    "np.median(incomes)"
   ]
  },
  {
   "cell_type": "code",
   "execution_count": 6,
   "metadata": {
    "collapsed": false,
    "deletable": true,
    "editable": true
   },
   "outputs": [
    {
     "data": {
      "text/plain": [
       "127047.53140407748"
      ]
     },
     "execution_count": 6,
     "metadata": {},
     "output_type": "execute_result"
    }
   ],
   "source": [
    "np.mean(incomes)"
   ]
  },
  {
   "cell_type": "markdown",
   "metadata": {
    "deletable": true,
    "editable": true
   },
   "source": [
    "## Mode"
   ]
  },
  {
   "cell_type": "markdown",
   "metadata": {
    "deletable": true,
    "editable": true
   },
   "source": [
    "Next, let's generate some fake age data for 500 people:"
   ]
  },
  {
   "cell_type": "code",
   "execution_count": 7,
   "metadata": {
    "collapsed": false,
    "deletable": true,
    "editable": true
   },
   "outputs": [
    {
     "data": {
      "text/plain": [
       "array([51, 20, 83, 71, 53, 35, 41, 86, 36, 33, 56, 81, 22, 78, 84, 67, 20,\n",
       "       60, 75, 33, 81, 22, 75, 64, 63, 46, 80, 45, 56, 80, 61, 20, 29, 73,\n",
       "       83, 66, 65, 75, 47, 80, 67, 57, 81, 39, 28, 66, 83, 41, 27, 82, 47,\n",
       "       77, 80, 88, 63, 66, 20, 26, 49, 64, 58, 86, 82, 20, 23, 69, 73, 29,\n",
       "       37, 67, 56, 60, 53, 44, 29, 85, 44, 83, 62, 29, 75, 50, 32, 27, 29,\n",
       "       33, 44, 40, 83, 20, 84, 62, 32, 22, 47, 64, 75, 27, 53, 34, 29, 56,\n",
       "       26, 42, 87, 46, 60, 76, 40, 52, 84, 48, 49, 42, 59, 87, 81, 25, 61,\n",
       "       89, 24, 58, 61, 48, 89, 36, 88, 56, 22, 89, 18, 21, 66, 31, 32, 54,\n",
       "       81, 79, 70, 22, 18, 19, 58, 19, 79, 37, 33, 39, 60, 36, 38, 46, 39,\n",
       "       23, 73, 78, 32, 87, 38, 48, 76, 83, 33, 49, 58, 79, 54, 75, 56, 74,\n",
       "       53, 34, 69, 77, 87, 63, 25, 70, 87, 63, 51, 34, 38, 20, 67, 63, 20,\n",
       "       84, 38, 20, 74, 69, 60, 24, 50, 47, 34, 83, 78, 38, 55, 49, 35, 34,\n",
       "       47, 53, 61, 88, 28, 85, 46, 66, 50, 71, 61, 23, 59, 27, 60, 23, 54,\n",
       "       49, 73, 81, 84, 23, 67, 88, 33, 57, 26, 29, 82, 57, 24, 69, 83, 41,\n",
       "       52, 20, 25, 59, 72, 82, 72, 32, 79, 34, 79, 87, 53, 59, 53, 59, 59,\n",
       "       57, 35, 75, 30, 62, 65, 79, 54, 60, 56, 30, 82, 82, 51, 63, 39, 82,\n",
       "       60, 55, 27, 69, 36, 87, 81, 64, 32, 62, 56, 30, 73, 76, 70, 37, 71,\n",
       "       33, 78, 87, 88, 87, 29, 31, 72, 89, 24, 77, 38, 30, 26, 21, 45, 70,\n",
       "       35, 83, 58, 26, 56, 42, 82, 64, 86, 54, 47, 76, 19, 42, 75, 33, 65,\n",
       "       82, 69, 38, 26, 33, 89, 43, 47, 69, 19, 46, 82, 22, 30, 46, 88, 37,\n",
       "       28, 25, 82, 19, 51, 68, 64, 18, 70, 73, 26, 83, 46, 22, 58, 59, 45,\n",
       "       38, 79, 23, 63, 23, 62, 48, 37, 27, 88, 53, 52, 86, 71, 37, 23, 78,\n",
       "       50, 50, 87, 46, 64, 49, 45, 27, 63, 54, 32, 46, 58, 67, 55, 60, 31,\n",
       "       72, 41, 28, 19, 84, 87, 45, 36, 72, 86, 82, 66, 18, 68, 30, 61, 19,\n",
       "       54, 87, 83, 33, 26, 43, 37, 62, 67, 47, 36, 56, 35, 78, 52, 80, 26,\n",
       "       52, 72, 44, 39, 35, 38, 49, 20, 84, 34, 49, 53, 70, 33, 43, 68, 19,\n",
       "       32, 25, 89, 60, 30, 89, 74, 78, 71, 79, 31, 26, 40, 61, 53, 43, 65,\n",
       "       40, 59, 59, 79, 83, 35, 23, 76, 57, 89, 49, 67, 18, 47, 41, 18, 54,\n",
       "       54, 87, 52, 39, 32, 86, 82, 30, 25, 23, 78, 84, 66, 75, 77, 88, 49,\n",
       "       36, 61, 77, 84, 75, 54, 42])"
      ]
     },
     "execution_count": 7,
     "metadata": {},
     "output_type": "execute_result"
    }
   ],
   "source": [
    "# ref: https://numpy.org/doc/stable/reference/random/generated/numpy.random.RandomState.randint.html\n",
    "# sample: np.random.randint(low, high=None, size=None)\n",
    "# 生成 500 個隨機整數，範圍是 18 ~ 90\n",
    "ages = np.random.randint(18, high=90, size=500)\n",
    "ages"
   ]
  },
  {
   "cell_type": "code",
   "execution_count": 8,
   "metadata": {
    "collapsed": false,
    "deletable": true,
    "editable": true
   },
   "outputs": [
    {
     "data": {
      "text/plain": [
       "ModeResult(mode=array([82]), count=array([13]))"
      ]
     },
     "execution_count": 8,
     "metadata": {},
     "output_type": "execute_result"
    }
   ],
   "source": [
    "# 使用 SciPy 來取眾數的值\n",
    "from scipy import stats\n",
    "stats.mode(ages)"
   ]
  },
  {
   "cell_type": "markdown",
   "metadata": {
    "collapsed": false,
    "deletable": true,
    "editable": true
   },
   "source": [
    "總而言之：如果覺得別人分析的資料存在離群值，就不要輕易相信平均數"
   ]
  }
 ],
 "metadata": {
  "kernelspec": {
   "display_name": "Python 3",
   "language": "python",
   "name": "python3"
  },
  "language_info": {
   "codemirror_mode": {
    "name": "ipython",
    "version": 3
   },
   "file_extension": ".py",
   "mimetype": "text/x-python",
   "name": "python",
   "nbconvert_exporter": "python",
   "pygments_lexer": "ipython3",
   "version": "3.9.7"
  }
 },
 "nbformat": 4,
 "nbformat_minor": 0
}
