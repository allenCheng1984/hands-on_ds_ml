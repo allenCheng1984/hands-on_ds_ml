{
 "cells": [
  {
   "cell_type": "markdown",
   "metadata": {},
   "source": [
    "# Matplotlib 與高等機率概念\n",
    "\n",
    "上一章中，學到了一些統計和機率的簡單概念。<br>\n",
    "本章繼續介紹更多非學不可的高階主題。<br>\n",
    "\n",
    "* 使用 `matplotlib` 套件繪製圖表\n",
    "* 瞭解共變異數和相關性，確定資料之間的關係 \n",
    "* 透過實例瞭解條件機率\n",
    "* 理解貝式定理及其重要性\n",
    "\n",
    "---\n",
    "\n",
    "## `Matplotlib` 快速入門\n",
    "\n",
    "學會用資料繪製圖表，以及透過一些技巧來美化圖表。<br>\n",
    "幫助在資料視覺化時，可以用不同圖表呈現不同資料，並且更具美感。<br>\n",
    "也會教導如何設定圖表顏色、線條樣式、座標軸等。<br>\n",
    "最終將成果展示給非技術人士\n",
    "\n",
    "實作請參考 `MatPlotLib.ipynb`"
   ]
  }
 ],
 "metadata": {
  "language_info": {
   "name": "python"
  },
  "orig_nbformat": 4
 },
 "nbformat": 4,
 "nbformat_minor": 2
}
